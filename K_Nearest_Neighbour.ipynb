{
 "cells": [
  {
   "cell_type": "code",
   "execution_count": 1,
   "metadata": {},
   "outputs": [
    {
     "name": "stdout",
     "output_type": "stream",
     "text": [
      "Total training data: (1000, 11)\n",
      "Total test data: (1000,)\n",
      "Train set X and y: (800, 11) (800,)\n",
      "Test set X and y: (200, 11) (200,)\n",
      "[2 3]\n",
      "[3 4]\n",
      "Train set Accuracy:  0.565\n",
      "Test set Accuracy:  0.29\n"
     ]
    }
   ],
   "source": [
    "#KNN- K-Nearest Neighbour :It considers the 'K' Nearest Neighbors (points) \n",
    "#when it predicts the classification of the test point.\n",
    "\n",
    "\n",
    "import numpy as np                                    # array operations\n",
    "import matplotlib.pyplot as plt\n",
    "import pandas as pd                                   # reading csv file\n",
    "from sklearn import preprocessing                     # used for normalization\n",
    "from sklearn.model_selection import train_test_split  # splitting the data\n",
    "from sklearn.neighbors import KNeighborsClassifier\n",
    "from sklearn import metrics                           # measuring accuracy\n",
    "\n",
    "\n",
    "df = pd.read_csv('teleCust1000t.csv')  # 1000 by 12 data\n",
    "#df.head()\n",
    "#print(np.shape(df))\n",
    "#df['custcat']  # target variable\n",
    "df['custcat'].value_counts() # it gives the count of numbers \n",
    "#df.hist(column='income', bins=50)\n",
    "\n",
    "#feature set\n",
    "df.columns\n",
    "\n",
    "# convert pandas dataframe into numpy array\n",
    "X = df[['region', 'tenure','age', 'marital', 'address', 'income', 'ed', 'employ','retire', 'gender', 'reside']] .values  #.astype(float)\n",
    "\n",
    "#X[0:5] # first 5 rows data in array format\n",
    "\n",
    "y = df['custcat'].values\n",
    "#y[0:5] # first 5 values \n",
    "\n",
    "# Normalization\n",
    "#Why it is required? - The nearness of samples is typically based on Euclidean distance.\n",
    "#Suppose you had a dataset (m \"examples\" by n \"features\") and all \n",
    "#but one feature dimension had values strictly between 0 and 1, while a single feature dimension \n",
    "#had values that range from -1000000 to 1000000. When taking the euclidean distance between pairs \n",
    "#of \"examples\", the values of the feature dimensions that range between 0 and 1 may become uninformative\n",
    "#and the algorithm would essentially rely on the single dimension whose values are substantially larger.\n",
    "# Normalization solves this problem!\n",
    "\n",
    "X = preprocessing.StandardScaler().fit(X).transform(X.astype(float))\n",
    "\n",
    "#X[0:5]\n",
    "\n",
    "\n",
    "# data split\n",
    "\n",
    "X_train, X_test, y_train, y_test = train_test_split( X, y, test_size=0.2, random_state=5)\n",
    "print ('Total training data:', X.shape)\n",
    "print ('Total test data:', y.shape)\n",
    "print ('Train set X and y:', X_train.shape,  y_train.shape)\n",
    "print ('Test set X and y:', X_test.shape,  y_test.shape)\n",
    "\n",
    "X_train[0:2]\n",
    "\n",
    "#create model\n",
    "k = 4\n",
    "#Train Model \n",
    "neigh = KNeighborsClassifier(n_neighbors = k).fit(X_train,y_train) # training data of features and test data\n",
    "neigh\n",
    "\n",
    "# Predict\n",
    "y_pre = neigh.predict(X_test)\n",
    "print(y_pre[0:2])\n",
    "print(y_test[0:2])\n",
    "\n",
    "\n",
    "#Accuracy\n",
    "\n",
    "# test with training data itself\n",
    "print(\"Train set Accuracy: \", metrics.accuracy_score(y_train, neigh.predict(X_train)))\n",
    "\n",
    "# test with test data itself\n",
    "print(\"Test set Accuracy: \", metrics.accuracy_score(y_test, y_pre))\n"
   ]
  },
  {
   "cell_type": "code",
   "execution_count": null,
   "metadata": {},
   "outputs": [],
   "source": []
  }
 ],
 "metadata": {
  "kernelspec": {
   "display_name": "Python",
   "language": "python",
   "name": "conda-env-python-py"
  },
  "language_info": {
   "codemirror_mode": {
    "name": "ipython",
    "version": 3
   },
   "file_extension": ".py",
   "mimetype": "text/x-python",
   "name": "python",
   "nbconvert_exporter": "python",
   "pygments_lexer": "ipython3",
   "version": "3.6.7"
  }
 },
 "nbformat": 4,
 "nbformat_minor": 4
}
