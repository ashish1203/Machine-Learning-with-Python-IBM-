{
 "cells": [
  {
   "cell_type": "code",
   "execution_count": 1,
   "metadata": {},
   "outputs": [
    {
     "name": "stdout",
     "output_type": "stream",
     "text": [
      "Coefficients:  [[39.3485906]]\n",
      "Intercept:  [124.45468111]\n",
      "Mean absolute error: 22.10\n",
      "Residual sum of squares (MSE): 863.19\n",
      "R2-score: 0.71\n"
     ]
    }
   ],
   "source": [
    "# Simple Linear regression - Linear Regression fits a linear model with coefficients a0,a1,a2...an\n",
    "# minimize the 'residual sum of squares' between the independent x in the dataset,\n",
    "# and the dependent y by the linear approximation.\n",
    "\n",
    "import matplotlib.pyplot as plt\n",
    "import pandas as pd\n",
    "import pylab as pl\n",
    "import numpy as np\n",
    "from sklearn import linear_model\n",
    "from sklearn.metrics import r2_score\n",
    "\n",
    "df = pd.read_csv(\"FuelConsumption.csv\")\n",
    "#print(df.head)  # it gives overall rows and column\n",
    "\n",
    "#print(df.describe()) # this will give the statistic data of data\n",
    "\n",
    "cdf = df[['ENGINESIZE','CYLINDERS','FUELCONSUMPTION_COMB','CO2EMISSIONS']]\n",
    "#print(cdf.head(9)) # first 9 elements from the excel sheet\n",
    "\n",
    "viz = cdf[['ENGINESIZE','CYLINDERS','FUELCONSUMPTION_COMB','CO2EMISSIONS']]\n",
    "\n",
    "#plt.scatter(cdf.ENGINESIZE, cdf.CO2EMISSIONS,  color='blue')\n",
    "#plt.xlabel(\"FUELCONSUMPTION_COMB\")\n",
    "#plt.ylabel(\"Emission\")\n",
    "\n",
    "msk = np.random.rand(len(df)) < 0.8  #select random rows\n",
    "#print(msk)\n",
    "train = cdf[msk]\n",
    "#print(train[['ENGINESIZE']])\n",
    "#print(test[['ENGINESIZE']])\n",
    "test = cdf[~msk]\n",
    "\n",
    "#plt.hist(train)\n",
    "#plt.show()\n",
    "#plt.scatter(train[['ENGINESIZE']], train[['CO2EMISSIONS']],  color='blue')\n",
    "#plt.xlabel(\"Engine size\")\n",
    "#plt.ylabel(\"Emission\")\n",
    "\n",
    "\n",
    "# create model\n",
    "regr = linear_model.LinearRegression()\n",
    "train_x = np.asanyarray(train[['ENGINESIZE']])  # asanarray - converts list into array\n",
    "train_y = np.asanyarray(train[['CO2EMISSIONS']])\n",
    "regr.fit(train_x, train_y) # model design with training data\n",
    "# The coefficients -the parameters of the fit line\n",
    "print('Coefficients: ', regr.coef_)\n",
    "print('Intercept: ',regr.intercept_)\n",
    "\n",
    "plt.scatter(train.ENGINESIZE, train.CO2EMISSIONS,  color='blue') # data plot\n",
    "plt.plot(train_x, regr.coef_[0][0]*train_x + regr.intercept_[0], '-r') # plot points on trainx data :  y = m*x+c\n",
    "plt.xlabel(\"Engine size\")\n",
    "plt.ylabel(\"Emission\")\n",
    "\n",
    "\n",
    "#predicts the test data\n",
    "test_x = np.asanyarray(test[['ENGINESIZE']])   # asanyarray : converts List into array\n",
    "test_y = np.asanyarray(test[['CO2EMISSIONS']])\n",
    "test_y_hat = regr.predict(test_x) # through regression model predicts the test data\n",
    "\n",
    "\n",
    "# check Error and accuracy using 3 paramters -\n",
    "# (1) Mean absolute error\n",
    "# (2) Mean squared error\n",
    "# (3) Rsquared accuracy measure - how close the data are to the fitted regression line.\n",
    "#     The higher the R-squared, the better the model fits your data\n",
    "\n",
    "print(\"Mean absolute error: %.2f\" % np.mean(np.absolute(test_y_hat - test_y)))\n",
    "print(\"Residual sum of squares (MSE): %.2f\" % np.mean((test_y_hat - test_y) ** 2))\n",
    "print(\"R2-score: %.2f\" % r2_score(test_y_hat , test_y) )\n",
    "\n",
    "\n"
   ]
  },
  {
   "cell_type": "code",
   "execution_count": null,
   "metadata": {},
   "outputs": [],
   "source": []
  }
 ],
 "metadata": {
  "kernelspec": {
   "display_name": "Python",
   "language": "python",
   "name": "conda-env-python-py"
  },
  "language_info": {
   "codemirror_mode": {
    "name": "ipython",
    "version": 3
   },
   "file_extension": ".py",
   "mimetype": "text/x-python",
   "name": "python",
   "nbconvert_exporter": "python",
   "pygments_lexer": "ipython3",
   "version": "3.6.7"
  }
 },
 "nbformat": 4,
 "nbformat_minor": 4
}
