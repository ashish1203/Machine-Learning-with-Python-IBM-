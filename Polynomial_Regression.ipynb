{
 "cells": [
  {
   "cell_type": "code",
   "execution_count": 3,
   "metadata": {},
   "outputs": [
    {
     "name": "stdout",
     "output_type": "stream",
     "text": [
      "Coefficients:  [[ 0.         47.66860652 -1.12719269]]\n",
      "Intercept:  [111.75138837]\n",
      "Mean absolute error: 22.74\n",
      "Residual sum of squares (MSE): 904.81\n",
      "R2-score: 0.69\n"
     ]
    },
    {
     "data": {
      "image/png": "[encoded data removed]",
      "text/plain": [
       "<Figure size 432x288 with 1 Axes>"
      ]
     },
     "metadata": {
      "needs_background": "light"
     },
     "output_type": "display_data"
    }
   ],
   "source": [
    "# Polynomial regression - Sometimes, the trend of data is not really linear, and looks curvy. \n",
    "#In this case we can use Polynomial regression methods.\n",
    "#relationship between the independent variable x and the dependent variable y \n",
    "#is modeled as an nth degree polynomial in x.\n",
    "# y= a0 + a1*x +a2* square(x)\n",
    "# we will create a few additional features: b,  x , and  sq(x) .\n",
    "\n",
    "import matplotlib.pyplot as plt\n",
    "import pandas as pd\n",
    "import pylab as pl\n",
    "import numpy as np\n",
    "from sklearn.preprocessing import PolynomialFeatures\n",
    "from sklearn import linear_model\n",
    "from sklearn.metrics import r2_score\n",
    "\n",
    "df = pd.read_csv(\"FuelConsumption.csv\")\n",
    "#print(df.head)  # it gives overall rows and column\n",
    "\n",
    "#print(df.describe()) # this will give the statistic data of data\n",
    "\n",
    "# These are the features we will for regression\n",
    "cdf = df[['ENGINESIZE','CYLINDERS','FUELCONSUMPTION_COMB','CO2EMISSIONS']]\n",
    "#print(cdf.head(9)) # first 9 elements from the excel sheet\n",
    "\n",
    "viz = cdf[['ENGINESIZE','CYLINDERS','FUELCONSUMPTION_COMB','CO2EMISSIONS']]\n",
    "\n",
    "#plt.scatter(cdf.ENGINESIZE, cdf.CO2EMISSIONS,  color='blue')\n",
    "#plt.xlabel(\"FUELCONSUMPTION_COMB\")\n",
    "#plt.ylabel(\"Emission\")\n",
    "\n",
    "msk = np.random.rand(len(df)) < 0.8  #select random rows\n",
    "#print(msk)\n",
    "train = cdf[msk]\n",
    "test = cdf[~msk]\n",
    "#print(train[['ENGINESIZE']])\n",
    "#print(test[['ENGINESIZE']])\n",
    "\n",
    "\n",
    "#plt.hist(train)\n",
    "#plt.show()\n",
    "#plt.scatter(train[['ENGINESIZE']], train[['CO2EMISSIONS']],  color='blue')\n",
    "#plt.xlabel(\"Engine size\")\n",
    "#plt.ylabel(\"Emission\")\n",
    "\n",
    "\n",
    "# create model\n",
    "#regr = linear_model.LinearRegression()\n",
    "train_x = np.asanyarray(train[['ENGINESIZE']])  # asanarray - converts list into array\n",
    "train_y = np.asanyarray(train[['CO2EMISSIONS']])\n",
    "\n",
    "test_x = np.asanyarray(train[['ENGINESIZE']])  # asanarray - converts list into array\n",
    "test_y = np.asanyarray(train[['CO2EMISSIONS']])\n",
    "\n",
    "poly = PolynomialFeatures(degree=2) # b + a1*x +a2* square(x) \n",
    "train_x_poly = poly.fit_transform(train_x)  # y=b0+b1*x +b2*sq(x) : x  with  ??1 ,  square(x) with  x2 \n",
    "#train_x_poly\n",
    "\n",
    "# after converting non- linear relationship to linear relationship: we will use linear model to fit the data\n",
    "poly_regr = linear_model.LinearRegression()\n",
    "\n",
    "\n",
    "poly_regr.fit(train_x_poly, train_y) # model design with training data\n",
    "# The coefficients -the parameters of the fit line\n",
    "print('Coefficients: ', poly_regr.coef_)\n",
    "print('Intercept: ',poly_regr.intercept_)\n",
    "\n",
    "plt.scatter(train.ENGINESIZE, train.CO2EMISSIONS,  color='blue') # data plot\n",
    "\n",
    "\n",
    "XX = np.arange(0.0, 10.0, 0.1)\n",
    "yy = poly_regr.intercept_[0]+ poly_regr.coef_[0][1]*XX+ poly_regr.coef_[0][2]*np.power(XX, 2)\n",
    "plt.plot(XX, yy, '-r' )\n",
    "\n",
    "\n",
    "#YY = poly_regr.coef_[0][1]*XX + poly_regr.coef_[0][2]* np.power(XX,2) + poly_regr.intercept_[0]\n",
    "#plt.plot(train_x_poly,YY , '-r') # y = m*x + m*sqr(x)+c\n",
    "plt.xlabel(\"Engine size\")\n",
    "plt.ylabel(\"Emission\")\n",
    "\n",
    "\n",
    "#test_x = np.asanyarray(test[['ENGINESIZE']])   # asanyarray : converts List into array\n",
    "test_x_poly = poly.fit_transform(test_x)\n",
    "\n",
    "\n",
    "test_y1 = poly_regr.predict(test_x_poly) # through regression model predicts the test data\n",
    "\n",
    "#a=len(test_y1)\n",
    "#b=len(test_y)\n",
    "#c=len(test_x)\n",
    "#d=len(test_x_poly)\n",
    "#print(a)\n",
    "#print(b)\n",
    "#print(c)\n",
    "#print(d)\n",
    "# check Error and accuracy using 3 paramters -\n",
    "# (1) Mean absolute error\n",
    "# (2) Mean squared error\n",
    "# (3) Rsquared accuracy measure - how close the data are to the fitted regression line.\n",
    "#     The higher the R-squared, the better the model fits your data\n",
    "\n",
    "print(\"Mean absolute error: %.2f\" % np.mean(np.absolute(test_y1 - test_y)))\n",
    "print(\"Residual sum of squares (MSE): %.2f\" % np.mean((test_y1 - test_y) ** 2))\n",
    "print(\"R2-score: %.2f\" % r2_score(test_y1 , test_y) )\n",
    "\n",
    "\n"
   ]
  },
  {
   "cell_type": "code",
   "execution_count": null,
   "metadata": {},
   "outputs": [],
   "source": []
  }
 ],
 "metadata": {
  "kernelspec": {
   "display_name": "Python",
   "language": "python",
   "name": "conda-env-python-py"
  },
  "language_info": {
   "codemirror_mode": {
    "name": "ipython",
    "version": 3
   },
   "file_extension": ".py",
   "mimetype": "text/x-python",
   "name": "python",
   "nbconvert_exporter": "python",
   "pygments_lexer": "ipython3",
   "version": "3.6.7"
  }
 },
 "nbformat": 4,
 "nbformat_minor": 4
}
