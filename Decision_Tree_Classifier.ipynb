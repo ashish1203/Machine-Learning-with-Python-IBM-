{
 "cells": [
  {
   "cell_type": "code",
   "execution_count": 1,
   "metadata": {},
   "outputs": [
    {
     "name": "stdout",
     "output_type": "stream",
     "text": [
      "DecisionTrees's Accuracy:  0.9833333333333333\n"
     ]
    },
    {
     "data": {
      "text/plain": [
       "0.9833333333333333"
      ]
     },
     "execution_count": 1,
     "metadata": {},
     "output_type": "execute_result"
    }
   ],
   "source": [
    "#Decision_Tree_Classifier\n",
    "\n",
    "# Classification: based on decision tree\n",
    "# We choose the Entropy as a model selection paramter. Through entropy we can calculate the information gain\n",
    "# Information gain help in the tree splitting\n",
    "import numpy as np \n",
    "import pandas as pd\n",
    "from sklearn.tree import DecisionTreeClassifier # for classification\n",
    "from sklearn import preprocessing # for encoding the categorical data \n",
    "from sklearn.model_selection import train_test_split # split the data into tran and test\n",
    "from sklearn import metrics # for measuring the accuracy score\n",
    "import matplotlib.pyplot as plt\n",
    "from sklearn.metrics import confusion_matrix # for confusion matrix\n",
    "\n",
    "my_data = pd.read_csv(\"drug200.csv\")\n",
    "#my_data[['Age']]\n",
    "my_data.index    # tell about the indexes\n",
    "#my_data.columns # tell abt the coulmn keys\n",
    "#my_data.values  # tell abt the values of that column\n",
    "\n",
    "my_data.loc[0:10, 'Age':]  # slicing of data :- row & column\n",
    "\n",
    "X = my_data[['Age', 'Sex', 'BP', 'Cholesterol', 'Na_to_K']].values\n",
    "#X[0:5]\n",
    "\n",
    "\n",
    "l_sex = preprocessing.LabelEncoder() # encoding starts from 0\n",
    "l_sex.fit(['F','M']) # 2 elemets therefore 0 and 1 \n",
    "X[:,1] = l_sex.transform(X[:,1]) \n",
    "\n",
    "#X[:,1]\n",
    "#np.size(X[:,1])\n",
    "\n",
    "l_BP = preprocessing.LabelEncoder() # encoding starts from 0\n",
    "l_BP.fit([ 'LOW', 'NORMAL', 'HIGH']) # 3 elemets therefore 0 , 1 , 2\n",
    "X[:,2] = l_BP.transform(X[:,2])\n",
    "\n",
    "#X[:,2]\n",
    "\n",
    "l_Chol = preprocessing.LabelEncoder()\n",
    "l_Chol.fit([ 'NORMAL', 'HIGH'])\n",
    "X[:,3] = l_Chol.transform(X[:,3]) \n",
    "\n",
    "#X[:,3]\n",
    "#print(X[0:5])\n",
    "\n",
    "# target variable\n",
    "y = my_data[\"Drug\"]\n",
    "#print(y[0:5])\n",
    "\n",
    "\n",
    "# data split\n",
    "X_trainset, X_testset, y_trainset, y_testset = train_test_split(X, y, test_size=0.3, random_state=3)\n",
    "#print (np.shape(X_trainset))\n",
    "#print (np.shape(X_testset))\n",
    "#print (np.shape(y_trainset))\n",
    "#print (np.shape(y_testset))\n",
    "#print(np.shape(X))\n",
    "\n",
    "#print (y_testset)\n",
    "\n",
    "# Model the decision tree: Entropy- measures the information gain\n",
    "drugTree = DecisionTreeClassifier(criterion=\"entropy\", max_depth = 4) # entropy how much is the randomness in data\n",
    "drugTree # it shows the default parameters\n",
    "\n",
    "# fit the training data \n",
    "drugTree.fit(X_trainset,y_trainset)\n",
    "\n",
    "#Prediction of test data\n",
    "pred = drugTree.predict(X_testset)\n",
    "#pred\n",
    "#print (pred [0:5])\n",
    "#print (y_testset [0:5])\n",
    "\n",
    "# Measure the accuracy using accuracy score \n",
    "print(\"DecisionTrees's Accuracy: \", metrics.accuracy_score(y_testset, pred))\n",
    "\n",
    "#Measure the accuracy using confusion matrix\n",
    "cm=confusion_matrix(y_testset, pred)\n",
    "diagonal_sum = cm.trace()\n",
    "sum_of_all_elements = cm.sum()\n",
    "Acc= diagonal_sum/sum_of_all_elements\n",
    "Acc"
   ]
  },
  {
   "cell_type": "code",
   "execution_count": null,
   "metadata": {},
   "outputs": [],
   "source": []
  }
 ],
 "metadata": {
  "kernelspec": {
   "display_name": "Python",
   "language": "python",
   "name": "conda-env-python-py"
  },
  "language_info": {
   "codemirror_mode": {
    "name": "ipython",
    "version": 3
   },
   "file_extension": ".py",
   "mimetype": "text/x-python",
   "name": "python",
   "nbconvert_exporter": "python",
   "pygments_lexer": "ipython3",
   "version": "3.6.7"
  }
 },
 "nbformat": 4,
 "nbformat_minor": 4
}
