{
 "cells": [
  {
   "cell_type": "code",
   "execution_count": 1,
   "metadata": {},
   "outputs": [
    {
     "name": "stdout",
     "output_type": "stream",
     "text": [
      "[0 1 0 0 2 1 0 1 0 1 1 0 0 0 0 0 0 0 1 0 0 0 0 1 1 1 0 0 1 0 1 0 0 0 0 0 0\n",
      " 0 0 1 0 1 0 2 0 1 0 0 0 1 1 0 0 1 1 0 0 0 1 0 1 0 1 1 0 0 1 0 0 0 1 1 1 0\n",
      " 0 0 0 0 1 0 1 1 2 0 0 0 0 0 0 0 1 0 0 0 0 0 0 0 0 0 0 1 1 0 0 0 0 0 0 1 0\n",
      " 0 0 0 0 0 0 0 1 0 0 0 0 0 0 1 0 0 0 0 0 1 0 0 0 0 1 0 0 0 0 0 0 0 1 0 1 0\n",
      " 0 0 0 0 0 0 1 0 1 1 0 1 0 0 1 0 0 0 0 0 0 0 1 0 0 0 0 0 0 0 0 1 0 0 0 1 0\n",
      " 0 0 0 0 1 0 0 1 0 1 0 0 1 2 0 1 0 0 0 0 0 0 2 1 0 0 0 0 1 0 0 1 1 0 1 0 1\n",
      " 0 0 0 0 1 0 0 0 0 0 0 0 1 0 0 0 0 0 0 0 0 0 0 2 1 0 0 0 0 0 0 0 1 0 0 0 0\n",
      " 0 0 1 0 0 1 0 0 1 0 0 0 0 0 0 0 0 0 0 0 0 0 1 1 0 1 0 1 0 1 1 0 0 0 0 0 0\n",
      " 0 0 0 1 1 1 0 0 0 1 0 0 0 0 0 0 0 0 0 0 0 0 0 0 1 0 1 0 0 0 0 0 1 0 1 1 0\n",
      " 0 0 0 0 1 0 0 0 0 0 0 1 0 0 1 0 0 1 0 0 0 0 0 1 0 0 0 2 0 0 0 1 0 1 1 1 0\n",
      " 0 0 1 0 0 0 0 0 0 0 0 0 0 0 1 0 1 0 0 0 0 0 0 0 0 0 0 1 0 0 0 0 0 0 0 0 0\n",
      " 0 1 0 0 1 0 0 0 0 1 0 0 0 0 1 0 0 1 0 0 0 0 0 0 0 0 0 1 0 0 0 1 0 0 0 0 2\n",
      " 0 0 0 0 0 0 1 0 0 0 2 0 0 0 0 1 0 2 0 0 0 0 1 0 1 1 1 0 0 1 1 0 0 0 0 0 0\n",
      " 0 1 0 0 0 0 1 0 0 0 1 0 1 0 0 0 1 0 0 0 0 1 1 0 0 0 0 1 0 0 0 0 1 0 0 0 0\n",
      " 0 1 1 0 0 0 0 0 0 0 0 0 0 0 2 1 0 0 0 0 0 0 1 0 0 0 0 1 0 0 1 0 0 2 0 2 0\n",
      " 0 2 0 0 0 0 0 0 0 0 0 1 0 1 0 0 2 0 0 0 0 0 0 0 0 1 0 0 0 0 0 0 0 0 1 0 1\n",
      " 0 0 0 0 0 0 1 0 0 0 0 1 0 1 0 0 0 0 0 0 0 0 0 0 0 0 0 0 1 0 0 0 0 0 0 0 1\n",
      " 1 0 0 1 0 1 0 0 1 0 1 0 0 2 0 1 0 1 0 0 0 0 0 1 1 0 0 0 0 1 0 0 0 1 1 0 0\n",
      " 1 0 0 0 1 0 2 0 0 1 0 0 0 0 0 0 0 1 0 0 0 1 0 0 0 0 0 1 0 0 1 0 0 0 0 0 0\n",
      " 0 0 1 0 0 1 0 1 0 1 1 0 0 0 1 0 1 0 0 0 0 0 1 0 0 0 0 1 1 0 0 1 1 0 0 0 0\n",
      " 0 1 0 0 0 0 1 0 0 0 0 0 0 0 0 0 0 0 1 0 1 1 0 1 0 1 1 0 0 1 0 0 0 0 0 1 1\n",
      " 0 0 0 0 0 0 0 1 0 0 0 0 0 0 2 1 1 0 0 0 0 0 0 0 1 0 0 0 0 0 0 1 0 0 0 0 0\n",
      " 0 0 0 0 0 0 0 0 0 0 0 1 0 0 0 0 0 0 0 0 0 0 0 0 0 0 0 1 0 0 0 0 0 0 0 1]\n"
     ]
    },
    {
     "data": {
      "text/plain": [
       "<Figure size 640x480 with 1 Axes>"
      ]
     },
     "metadata": {},
     "output_type": "display_data"
    },
    {
     "data": {
      "text/plain": [
       "<mpl_toolkits.mplot3d.art3d.Path3DCollection at 0x7f7a4df09400>"
      ]
     },
     "execution_count": 1,
     "metadata": {},
     "output_type": "execute_result"
    }
   ],
   "source": [
    "#K-means clustering - with data \n",
    "#Customer Segmentation with K-Means- practice of partitioning a customer base into groups of individuals that have similar characteristics.\n",
    "\n",
    "#Setting up K-Means: The KMeans class has many parameters that can be used, but we will be using these three:\n",
    "\n",
    "#init: Initialization method of the centroids. #Value will be: \"k-means++\"==>#k-means++: Selects initial cluster centers for k-mean clustering in a smart way to speed up convergence.\n",
    "#n_clusters: The number of clusters to form as well as the number of centroids to generate.\n",
    "#Value will be: 4 (since we have 4 centers)\n",
    "#n_init: Number of time the k-means algorithm will be run with different centroid seeds. The final results will be the best output of n_init consecutive runs in terms of inertia.\n",
    "\n",
    "\n",
    "import pandas as pd\n",
    "import numpy as np\n",
    "# for normalization\n",
    "from sklearn.preprocessing import StandardScaler   \n",
    "\n",
    "from sklearn.cluster import KMeans #call k-means\n",
    "import matplotlib.pyplot as plt \n",
    "\n",
    "# for 3D plot\n",
    "from mpl_toolkits.mplot3d import Axes3D \n",
    "cust_data = pd.read_csv(\"Cust_Segmentation.csv\")\n",
    "#print(cust_data.head()) # first five features acroos rows n columns\n",
    "\n",
    "# we always want to play with numbers (not with text data)\n",
    "df = cust_data.drop('Address', axis=1) # drop column with axis label==> axis 1 indicates the columns, while axis 0\n",
    "#df.head()\n",
    "\n",
    "\n",
    "# data slicing in array =  [start : stop : steps] ==> forward [1:3:1] ==> backwards =[7:5:-1]==> array/List starts from 0 and last range element will not included in the list\n",
    "\n",
    "#normalize the dataset==>interpret features with different magnitudes and distributions equally. \n",
    "new_data = df.values[:,1:] # rows, columns\n",
    "a=new_data\n",
    "#print (a)\n",
    "area = np.pi * ( new_data[:, 1])**2  \n",
    "plt.scatter(new_data[:, 0], new_data[:, 3], s=area,  alpha=0.5)\n",
    "plt.xlabel('Age', fontsize=18)\n",
    "plt.ylabel('Income', fontsize=16)\n",
    "\n",
    "#plt.show()\n",
    "# nan_to_num ==>  replace nan(Not A Number) with zero and inf with finite numbers in an array\n",
    "new_data = np.nan_to_num(new_data) \n",
    "norm_data = StandardScaler().fit_transform(new_data)\n",
    "norm_data\n",
    "\n",
    "#Modeling the data set\n",
    "##k-means++: Selects initial cluster centers for k-mean clustering in a smart way to speed up convergence.\n",
    "##n_clusters: The number of clusters to form as well as the number of centroids to generate.\n",
    "##n_init: Number of time the k-means algorithm will be run with different centroid seeds.\n",
    "clusterNum = 3\n",
    "k_means = KMeans(init = \"k-means++\", n_clusters = clusterNum, n_init = 12)\n",
    "k_means.fit(new_data)\n",
    "labels = k_means.labels_\n",
    "print(labels)\n",
    "#print(np.shape(norm_data))\n",
    "#print(np.shape(labels))\n",
    "\n",
    "#Insights\n",
    "df[\"Clus_km\"] = labels\n",
    "df.head(5)\n",
    "\n",
    "# avergae value of each cluster\n",
    "#print(df.groupby('Clus_km').mean())\n",
    "\n",
    "#group by age \n",
    "#print(df.groupby(['Clus_km'])) \n",
    "\n",
    "# distribution of age vs income\n",
    "#a1=new_data\n",
    "#print(a1)\n",
    "\n",
    "# 2-D plot\n",
    "area = np.pi * ( new_data[:, 1])**2  \n",
    "plt.scatter(new_data[:, 0],new_data[:, 1],  s=area, c=labels.astype(np.float), alpha=0.5)\n",
    "plt.xlabel('Age', fontsize=18)\n",
    "plt.ylabel('Income', fontsize=16)\n",
    "\n",
    "plt.show()\n",
    "#print(new_data)\n",
    "#df.head()\n",
    "\n",
    "#3-D plot :- we have to import axis3D\n",
    "fig = plt.figure(1, figsize=(10, 6))  # length by width\n",
    "plt.clf() #Clear the current figure.\n",
    "ax = Axes3D(fig, rect=[0, 0, 1, 1], elev=48, azim=134)  #(left, bottom, width, height) axes position.\n",
    "\n",
    "plt.cla()\n",
    "\n",
    "ax.set_xlabel('Education')\n",
    "ax.set_ylabel('Age')\n",
    "ax.set_zlabel('Income')\n",
    "\n",
    "ax.scatter(new_data[:, 1], new_data[:, 0], new_data[:, 3], c= labels.astype(np.float))\n",
    "\n",
    "\n",
    "\n",
    "\n",
    "\n",
    "\n"
   ]
  },
  {
   "cell_type": "code",
   "execution_count": null,
   "metadata": {},
   "outputs": [],
   "source": []
  }
 ],
 "metadata": {
  "kernelspec": {
   "display_name": "Python",
   "language": "python",
   "name": "conda-env-python-py"
  },
  "language_info": {
   "codemirror_mode": {
    "name": "ipython",
    "version": 3
   },
   "file_extension": ".py",
   "mimetype": "text/x-python",
   "name": "python",
   "nbconvert_exporter": "python",
   "pygments_lexer": "ipython3",
   "version": "3.6.7"
  }
 },
 "nbformat": 4,
 "nbformat_minor": 4
}
